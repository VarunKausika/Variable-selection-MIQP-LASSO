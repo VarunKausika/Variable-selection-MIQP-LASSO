{
 "cells": [
  {
   "attachments": {},
   "cell_type": "markdown",
   "metadata": {},
   "source": [
    "# Variable Selection"
   ]
  },
  {
   "cell_type": "code",
   "execution_count": 1,
   "metadata": {},
   "outputs": [],
   "source": [
    "import numpy as np\n",
    "import gurobipy as gp\n",
    "import pandas as pd\n",
    "\n",
    "# import files\n",
    "train = pd.read_csv('training_data.csv')\n",
    "test = pd.read_csv('test_data.csv')"
   ]
  },
  {
   "cell_type": "markdown",
   "metadata": {},
   "source": [
    "## Problem Description\n",
    "\n",
    "Variable selection (also known as best subset selection) is a problem encountered in predictive analytics where we have to pick the subset $k$ features from a total of $m$ features.\n",
    "\n",
    "The total number of models that can be picked are:\n",
    "\n",
    "$${m \\choose 0} + {m \\choose 1} + ... + {m\\choose m} = 2^m$$\n",
    "\n",
    "But this would be computationally intensive, and choosing the best subset of variables is considered a np-hard problem. Some workarounds like branch and bound exist to eliminate some possibilities. More recent techniques include solving the mixed integer quadratic program and LASSO, which we implement here."
   ]
  },
  {
   "cell_type": "code",
   "execution_count": 2,
   "metadata": {},
   "outputs": [
    {
     "data": {
      "text/html": [
       "<div>\n",
       "<style scoped>\n",
       "    .dataframe tbody tr th:only-of-type {\n",
       "        vertical-align: middle;\n",
       "    }\n",
       "\n",
       "    .dataframe tbody tr th {\n",
       "        vertical-align: top;\n",
       "    }\n",
       "\n",
       "    .dataframe thead th {\n",
       "        text-align: right;\n",
       "    }\n",
       "</style>\n",
       "<table border=\"1\" class=\"dataframe\">\n",
       "  <thead>\n",
       "    <tr style=\"text-align: right;\">\n",
       "      <th></th>\n",
       "      <th>y</th>\n",
       "      <th>X1</th>\n",
       "      <th>X2</th>\n",
       "      <th>X3</th>\n",
       "      <th>X4</th>\n",
       "      <th>X5</th>\n",
       "      <th>X6</th>\n",
       "      <th>X7</th>\n",
       "      <th>X8</th>\n",
       "      <th>X9</th>\n",
       "      <th>...</th>\n",
       "      <th>X41</th>\n",
       "      <th>X42</th>\n",
       "      <th>X43</th>\n",
       "      <th>X44</th>\n",
       "      <th>X45</th>\n",
       "      <th>X46</th>\n",
       "      <th>X47</th>\n",
       "      <th>X48</th>\n",
       "      <th>X49</th>\n",
       "      <th>X50</th>\n",
       "    </tr>\n",
       "  </thead>\n",
       "  <tbody>\n",
       "    <tr>\n",
       "      <th>0</th>\n",
       "      <td>8.536145</td>\n",
       "      <td>-1.535413</td>\n",
       "      <td>0.718888</td>\n",
       "      <td>-2.099149</td>\n",
       "      <td>-0.442842</td>\n",
       "      <td>-0.598978</td>\n",
       "      <td>-1.642574</td>\n",
       "      <td>0.207755</td>\n",
       "      <td>0.760642</td>\n",
       "      <td>0.575874</td>\n",
       "      <td>...</td>\n",
       "      <td>0.361866</td>\n",
       "      <td>1.793098</td>\n",
       "      <td>-0.631287</td>\n",
       "      <td>-0.061751</td>\n",
       "      <td>0.511049</td>\n",
       "      <td>0.488754</td>\n",
       "      <td>-0.612772</td>\n",
       "      <td>-0.471045</td>\n",
       "      <td>-1.139781</td>\n",
       "      <td>-0.260773</td>\n",
       "    </tr>\n",
       "    <tr>\n",
       "      <th>1</th>\n",
       "      <td>4.808344</td>\n",
       "      <td>-1.734609</td>\n",
       "      <td>0.551981</td>\n",
       "      <td>-2.147673</td>\n",
       "      <td>-1.552944</td>\n",
       "      <td>1.514910</td>\n",
       "      <td>-1.143972</td>\n",
       "      <td>0.737594</td>\n",
       "      <td>1.321243</td>\n",
       "      <td>-0.261684</td>\n",
       "      <td>...</td>\n",
       "      <td>-0.677985</td>\n",
       "      <td>-0.165679</td>\n",
       "      <td>0.065405</td>\n",
       "      <td>0.137162</td>\n",
       "      <td>1.258197</td>\n",
       "      <td>-0.120834</td>\n",
       "      <td>-1.564834</td>\n",
       "      <td>-0.242565</td>\n",
       "      <td>-0.001827</td>\n",
       "      <td>1.187453</td>\n",
       "    </tr>\n",
       "    <tr>\n",
       "      <th>2</th>\n",
       "      <td>-1.530427</td>\n",
       "      <td>0.097257</td>\n",
       "      <td>0.107634</td>\n",
       "      <td>-0.194222</td>\n",
       "      <td>0.335454</td>\n",
       "      <td>-0.408199</td>\n",
       "      <td>0.133265</td>\n",
       "      <td>0.706179</td>\n",
       "      <td>0.394971</td>\n",
       "      <td>-0.437116</td>\n",
       "      <td>...</td>\n",
       "      <td>1.108801</td>\n",
       "      <td>0.333791</td>\n",
       "      <td>0.282055</td>\n",
       "      <td>-1.086294</td>\n",
       "      <td>-0.115354</td>\n",
       "      <td>0.257857</td>\n",
       "      <td>-0.088838</td>\n",
       "      <td>-0.751231</td>\n",
       "      <td>1.450609</td>\n",
       "      <td>0.290593</td>\n",
       "    </tr>\n",
       "    <tr>\n",
       "      <th>3</th>\n",
       "      <td>-0.428243</td>\n",
       "      <td>-0.067702</td>\n",
       "      <td>0.557836</td>\n",
       "      <td>0.700848</td>\n",
       "      <td>-1.121376</td>\n",
       "      <td>1.722274</td>\n",
       "      <td>0.613525</td>\n",
       "      <td>0.700909</td>\n",
       "      <td>-0.417976</td>\n",
       "      <td>1.069749</td>\n",
       "      <td>...</td>\n",
       "      <td>0.692511</td>\n",
       "      <td>-0.350990</td>\n",
       "      <td>0.624558</td>\n",
       "      <td>0.434520</td>\n",
       "      <td>-0.367409</td>\n",
       "      <td>-1.144681</td>\n",
       "      <td>-0.136524</td>\n",
       "      <td>-0.557214</td>\n",
       "      <td>0.416303</td>\n",
       "      <td>0.484495</td>\n",
       "    </tr>\n",
       "    <tr>\n",
       "      <th>4</th>\n",
       "      <td>0.566694</td>\n",
       "      <td>0.488729</td>\n",
       "      <td>0.211483</td>\n",
       "      <td>0.568389</td>\n",
       "      <td>0.646837</td>\n",
       "      <td>0.163868</td>\n",
       "      <td>-0.002152</td>\n",
       "      <td>0.125137</td>\n",
       "      <td>0.493571</td>\n",
       "      <td>1.705451</td>\n",
       "      <td>...</td>\n",
       "      <td>-0.000605</td>\n",
       "      <td>1.075280</td>\n",
       "      <td>0.182281</td>\n",
       "      <td>-1.138458</td>\n",
       "      <td>0.106092</td>\n",
       "      <td>0.544640</td>\n",
       "      <td>-0.383487</td>\n",
       "      <td>-0.425773</td>\n",
       "      <td>2.667647</td>\n",
       "      <td>-0.050748</td>\n",
       "    </tr>\n",
       "  </tbody>\n",
       "</table>\n",
       "<p>5 rows × 51 columns</p>\n",
       "</div>"
      ],
      "text/plain": [
       "          y        X1        X2        X3        X4        X5        X6  \\\n",
       "0  8.536145 -1.535413  0.718888 -2.099149 -0.442842 -0.598978 -1.642574   \n",
       "1  4.808344 -1.734609  0.551981 -2.147673 -1.552944  1.514910 -1.143972   \n",
       "2 -1.530427  0.097257  0.107634 -0.194222  0.335454 -0.408199  0.133265   \n",
       "3 -0.428243 -0.067702  0.557836  0.700848 -1.121376  1.722274  0.613525   \n",
       "4  0.566694  0.488729  0.211483  0.568389  0.646837  0.163868 -0.002152   \n",
       "\n",
       "         X7        X8        X9  ...       X41       X42       X43       X44  \\\n",
       "0  0.207755  0.760642  0.575874  ...  0.361866  1.793098 -0.631287 -0.061751   \n",
       "1  0.737594  1.321243 -0.261684  ... -0.677985 -0.165679  0.065405  0.137162   \n",
       "2  0.706179  0.394971 -0.437116  ...  1.108801  0.333791  0.282055 -1.086294   \n",
       "3  0.700909 -0.417976  1.069749  ...  0.692511 -0.350990  0.624558  0.434520   \n",
       "4  0.125137  0.493571  1.705451  ... -0.000605  1.075280  0.182281 -1.138458   \n",
       "\n",
       "        X45       X46       X47       X48       X49       X50  \n",
       "0  0.511049  0.488754 -0.612772 -0.471045 -1.139781 -0.260773  \n",
       "1  1.258197 -0.120834 -1.564834 -0.242565 -0.001827  1.187453  \n",
       "2 -0.115354  0.257857 -0.088838 -0.751231  1.450609  0.290593  \n",
       "3 -0.367409 -1.144681 -0.136524 -0.557214  0.416303  0.484495  \n",
       "4  0.106092  0.544640 -0.383487 -0.425773  2.667647 -0.050748  \n",
       "\n",
       "[5 rows x 51 columns]"
      ]
     },
     "execution_count": 2,
     "metadata": {},
     "output_type": "execute_result"
    }
   ],
   "source": [
    "train.head()"
   ]
  },
  {
   "cell_type": "code",
   "execution_count": 3,
   "metadata": {},
   "outputs": [
    {
     "data": {
      "text/html": [
       "<div>\n",
       "<style scoped>\n",
       "    .dataframe tbody tr th:only-of-type {\n",
       "        vertical-align: middle;\n",
       "    }\n",
       "\n",
       "    .dataframe tbody tr th {\n",
       "        vertical-align: top;\n",
       "    }\n",
       "\n",
       "    .dataframe thead th {\n",
       "        text-align: right;\n",
       "    }\n",
       "</style>\n",
       "<table border=\"1\" class=\"dataframe\">\n",
       "  <thead>\n",
       "    <tr style=\"text-align: right;\">\n",
       "      <th></th>\n",
       "      <th>y</th>\n",
       "      <th>X1</th>\n",
       "      <th>X2</th>\n",
       "      <th>X3</th>\n",
       "      <th>X4</th>\n",
       "      <th>X5</th>\n",
       "      <th>X6</th>\n",
       "      <th>X7</th>\n",
       "      <th>X8</th>\n",
       "      <th>X9</th>\n",
       "      <th>...</th>\n",
       "      <th>X41</th>\n",
       "      <th>X42</th>\n",
       "      <th>X43</th>\n",
       "      <th>X44</th>\n",
       "      <th>X45</th>\n",
       "      <th>X46</th>\n",
       "      <th>X47</th>\n",
       "      <th>X48</th>\n",
       "      <th>X49</th>\n",
       "      <th>X50</th>\n",
       "    </tr>\n",
       "  </thead>\n",
       "  <tbody>\n",
       "    <tr>\n",
       "      <th>0</th>\n",
       "      <td>7.107949</td>\n",
       "      <td>-2.047008</td>\n",
       "      <td>0.260132</td>\n",
       "      <td>-0.785152</td>\n",
       "      <td>0.384576</td>\n",
       "      <td>-0.137613</td>\n",
       "      <td>-0.364566</td>\n",
       "      <td>-1.941253</td>\n",
       "      <td>-0.108180</td>\n",
       "      <td>-0.339223</td>\n",
       "      <td>...</td>\n",
       "      <td>-0.522194</td>\n",
       "      <td>1.861897</td>\n",
       "      <td>0.124511</td>\n",
       "      <td>1.144071</td>\n",
       "      <td>0.128179</td>\n",
       "      <td>-0.467972</td>\n",
       "      <td>-1.085601</td>\n",
       "      <td>0.659670</td>\n",
       "      <td>0.514719</td>\n",
       "      <td>0.806656</td>\n",
       "    </tr>\n",
       "    <tr>\n",
       "      <th>1</th>\n",
       "      <td>5.796272</td>\n",
       "      <td>-1.354328</td>\n",
       "      <td>-1.289884</td>\n",
       "      <td>1.321533</td>\n",
       "      <td>-0.091165</td>\n",
       "      <td>-1.021874</td>\n",
       "      <td>0.686778</td>\n",
       "      <td>0.089737</td>\n",
       "      <td>-0.398371</td>\n",
       "      <td>-0.261740</td>\n",
       "      <td>...</td>\n",
       "      <td>-0.502578</td>\n",
       "      <td>0.584476</td>\n",
       "      <td>0.680703</td>\n",
       "      <td>0.046788</td>\n",
       "      <td>0.569681</td>\n",
       "      <td>-1.099062</td>\n",
       "      <td>-0.069656</td>\n",
       "      <td>0.709273</td>\n",
       "      <td>-0.848665</td>\n",
       "      <td>0.996168</td>\n",
       "    </tr>\n",
       "    <tr>\n",
       "      <th>2</th>\n",
       "      <td>1.598651</td>\n",
       "      <td>0.502205</td>\n",
       "      <td>1.062887</td>\n",
       "      <td>1.460733</td>\n",
       "      <td>-1.506403</td>\n",
       "      <td>0.721664</td>\n",
       "      <td>0.528921</td>\n",
       "      <td>-0.699541</td>\n",
       "      <td>-0.270331</td>\n",
       "      <td>-2.544812</td>\n",
       "      <td>...</td>\n",
       "      <td>-0.125195</td>\n",
       "      <td>-1.292924</td>\n",
       "      <td>0.411785</td>\n",
       "      <td>-0.164210</td>\n",
       "      <td>-2.407403</td>\n",
       "      <td>-1.132500</td>\n",
       "      <td>0.452923</td>\n",
       "      <td>-0.945541</td>\n",
       "      <td>0.126523</td>\n",
       "      <td>-0.972075</td>\n",
       "    </tr>\n",
       "    <tr>\n",
       "      <th>3</th>\n",
       "      <td>2.532953</td>\n",
       "      <td>0.222381</td>\n",
       "      <td>-0.960747</td>\n",
       "      <td>-0.113762</td>\n",
       "      <td>1.935927</td>\n",
       "      <td>0.969387</td>\n",
       "      <td>-1.641403</td>\n",
       "      <td>0.026647</td>\n",
       "      <td>0.747138</td>\n",
       "      <td>-1.571784</td>\n",
       "      <td>...</td>\n",
       "      <td>-0.546915</td>\n",
       "      <td>-0.192517</td>\n",
       "      <td>0.603420</td>\n",
       "      <td>-0.277331</td>\n",
       "      <td>-1.451419</td>\n",
       "      <td>0.220775</td>\n",
       "      <td>0.474954</td>\n",
       "      <td>-0.160109</td>\n",
       "      <td>0.188047</td>\n",
       "      <td>-1.711229</td>\n",
       "    </tr>\n",
       "    <tr>\n",
       "      <th>4</th>\n",
       "      <td>0.590685</td>\n",
       "      <td>1.209949</td>\n",
       "      <td>1.586874</td>\n",
       "      <td>-0.694784</td>\n",
       "      <td>-0.226370</td>\n",
       "      <td>-0.152108</td>\n",
       "      <td>0.772356</td>\n",
       "      <td>-0.573741</td>\n",
       "      <td>-0.992492</td>\n",
       "      <td>-0.646661</td>\n",
       "      <td>...</td>\n",
       "      <td>-0.982236</td>\n",
       "      <td>-1.407777</td>\n",
       "      <td>0.094211</td>\n",
       "      <td>0.159960</td>\n",
       "      <td>-0.901612</td>\n",
       "      <td>-1.653122</td>\n",
       "      <td>0.393518</td>\n",
       "      <td>0.702539</td>\n",
       "      <td>0.552663</td>\n",
       "      <td>-0.773646</td>\n",
       "    </tr>\n",
       "  </tbody>\n",
       "</table>\n",
       "<p>5 rows × 51 columns</p>\n",
       "</div>"
      ],
      "text/plain": [
       "          y        X1        X2        X3        X4        X5        X6  \\\n",
       "0  7.107949 -2.047008  0.260132 -0.785152  0.384576 -0.137613 -0.364566   \n",
       "1  5.796272 -1.354328 -1.289884  1.321533 -0.091165 -1.021874  0.686778   \n",
       "2  1.598651  0.502205  1.062887  1.460733 -1.506403  0.721664  0.528921   \n",
       "3  2.532953  0.222381 -0.960747 -0.113762  1.935927  0.969387 -1.641403   \n",
       "4  0.590685  1.209949  1.586874 -0.694784 -0.226370 -0.152108  0.772356   \n",
       "\n",
       "         X7        X8        X9  ...       X41       X42       X43       X44  \\\n",
       "0 -1.941253 -0.108180 -0.339223  ... -0.522194  1.861897  0.124511  1.144071   \n",
       "1  0.089737 -0.398371 -0.261740  ... -0.502578  0.584476  0.680703  0.046788   \n",
       "2 -0.699541 -0.270331 -2.544812  ... -0.125195 -1.292924  0.411785 -0.164210   \n",
       "3  0.026647  0.747138 -1.571784  ... -0.546915 -0.192517  0.603420 -0.277331   \n",
       "4 -0.573741 -0.992492 -0.646661  ... -0.982236 -1.407777  0.094211  0.159960   \n",
       "\n",
       "        X45       X46       X47       X48       X49       X50  \n",
       "0  0.128179 -0.467972 -1.085601  0.659670  0.514719  0.806656  \n",
       "1  0.569681 -1.099062 -0.069656  0.709273 -0.848665  0.996168  \n",
       "2 -2.407403 -1.132500  0.452923 -0.945541  0.126523 -0.972075  \n",
       "3 -1.451419  0.220775  0.474954 -0.160109  0.188047 -1.711229  \n",
       "4 -0.901612 -1.653122  0.393518  0.702539  0.552663 -0.773646  \n",
       "\n",
       "[5 rows x 51 columns]"
      ]
     },
     "execution_count": 3,
     "metadata": {},
     "output_type": "execute_result"
    }
   ],
   "source": [
    "test.head()"
   ]
  },
  {
   "cell_type": "markdown",
   "metadata": {},
   "source": [
    "## MIQP Problem\n",
    "\n",
    "### Formulation of the problem:\n",
    "\n",
    "* **Decision variables:**\n",
    "1. The $m$ coefficients of the variables:\n",
    "$$\\beta_0, \\beta_1, \\beta_2,..., \\beta_m$$\n",
    "2. The binary $z_j$ variables which decide which $\\beta_j$ variables are 0\n",
    "$$z_j \\: are \\: binary \\: where \\: j\\in \\{1, 2, ...m\\}$$\n",
    "\n",
    "* **Objective:** \n",
    "$$\\boxed{min_{\\beta}\\Sigma^{n}_{i=1}(\\beta_{0}+\\beta_{1}x_{i1}+...+\\beta_{m}x_{im}-y_i)^{2}}$$\n",
    "\n",
    "where m is the number of variables to be selected\n",
    "\n",
    "* **Constraints:**\n",
    "\n",
    "1. First $m$ set of Big-M constraints:\n",
    "$$-Mz_j\\leq\\beta_j\\:for\\:j\\in\\{1, 2, 3,..., m\\}$$\n",
    "\n",
    "2. Second $m$ set of Big-M constraints:\n",
    "$$Mz_j\\geq\\beta_j\\:for\\:j\\in\\{1, 2, 3,..., m\\}$$\n",
    "\n",
    "**NOTE:** We choose the value of $M$ to arbitrarily be 100 (sufficiently large value).\n",
    "\n",
    "3. Total number of variables picked should be less than or equal to $k$:\n",
    "$$\\Sigma_{j=1}^mz_{j}\\leq k$$"
   ]
  },
  {
   "cell_type": "code",
   "execution_count": 4,
   "metadata": {},
   "outputs": [],
   "source": [
    "def MIQP(df_train, k):\n",
    "\n",
    "    # Setting the X and y variables\n",
    "\n",
    "    X_train = df_train.drop(columns='y').to_numpy()\n",
    "    y_train = df_train['y'].to_numpy()\n",
    "\n",
    "    m = X_train.shape[1]\n",
    "    M = 100\n",
    "    sense = []\n",
    "    b = []\n",
    "\n",
    "    # Setting up the constraint matrix\n",
    "    # We have 2*m+1 decision variables\n",
    "    # First m big M constraints\n",
    "    A = np.hstack((np.eye(m), -M*np.eye(m)))\n",
    "    sense += ['<']*m\n",
    "    b += [0]*m\n",
    "\n",
    "    # Second m big M constraints\n",
    "    A_1 = np.hstack((np.eye(m), M*np.eye(m)))\n",
    "    sense += ['>']*m\n",
    "    b += [0]*m\n",
    "    A = np.vstack((A, A_1))\n",
    "\n",
    "    # All z variables should add to <= k\n",
    "    A_2 = np.array([0]*m + [1]*m)\n",
    "    sense.append('<')\n",
    "    b.append(k)\n",
    "    A = np.vstack((A, A_2))\n",
    "\n",
    "    # Adding a column of zeroes for the constant \n",
    "    A = np.hstack((np.array([0]*(2*m+1)).reshape((2*m+1, 1)), A))\n",
    "\n",
    "    # Setting up the objective\n",
    "    n_train = X_train.shape[0]\n",
    "    X_train = np.hstack((np.ones((n_train, 1)), X_train))\n",
    "    Q = np.zeros((2*m+1, 2*m+1))\n",
    "    Q[:(m+1), :(m+1)] = X_train.T @ X_train\n",
    "    L = np.zeros(2*m+1)\n",
    "    L[:m+1] = -2*y_train.T @ X_train\n",
    "\n",
    "    varMod = gp.Model()\n",
    "    varMod_x = varMod.addMVar(2*m+1, vtype=np.array(['C']*(m+1) + ['B']*m), lb=np.array([np.NINF]+[-M]*(m)+ [np.NINF]*m))\n",
    "    varMod_con = varMod.addMConstr(A, varMod_x, np.array(sense), np.array(b))\n",
    "    varMod.setMObjective(Q, L, 0, sense = gp.GRB.MINIMIZE)\n",
    "    varMod.setParam(\"OutputFlag\",0)\n",
    "\n",
    "    varMod.optimize()\n",
    "    betas = varMod_x.x[:m+1] \n",
    "\n",
    "    return betas"
   ]
  },
  {
   "cell_type": "markdown",
   "metadata": {},
   "source": [
    "## LASSO\n",
    "\n",
    "In LASSO, variables are selected as:\n",
    "\n",
    "$$\\boxed{y_{predicted} = min_{\\beta}(\\Sigma^{n}_{i=1}(\\beta_{0}+\\beta_{1}x_{i1}+...+\\beta_{m}x_{im}-y_i)^{2} + \\lambda\\Sigma_{j=1}^{m}|\\beta_{j}|)}$$\n",
    "\n",
    "Here, variables are set to 0 when lambda is large, penalizing the cost function. Note that $\\beta_0$ is not included in the penalty term. When lambda is very large, the prediction of the regression is just the mean of the target variables.\n",
    "\n",
    "Below, we implement the LassoCV function in scikit-learn, which automatically does k-fold cross validation for us to select $\\lambda$."
   ]
  },
  {
   "cell_type": "code",
   "execution_count": 5,
   "metadata": {},
   "outputs": [],
   "source": [
    "from sklearn import linear_model\n",
    "from sklearn.metrics import mean_squared_error\n",
    "\n",
    "def LASSO(df_train, df_test):\n",
    "\n",
    "    X_train = df_train.drop(columns='y').to_numpy()\n",
    "    y_train = df_train['y'].to_numpy()\n",
    "    X_test = df_test.drop(columns='y').to_numpy()\n",
    "    y_test = df_test['y'].to_numpy()\n",
    "\n",
    "    clf = linear_model.LassoCV(cv=10)\n",
    "    clf.fit(X_train, y_train)\n",
    "\n",
    "    y_pred_train = clf.predict(X_train)\n",
    "    y_pred_test = clf.predict(X_test)\n",
    "    SSE_train = mean_squared_error(y_train, y_pred_train)\n",
    "    SSE_test = mean_squared_error(y_test, y_pred_test)\n",
    "\n",
    "    num_var = (clf.coef_ !=0).sum()\n",
    "    print('Best lambda from LASSO: {}'.format(clf.alpha_))\n",
    "    print('Intercept: ', clf.intercept_)\n",
    "    print('Number of X Variables: {}'.format(num_var))\n",
    "    print('Beta coefs: ', clf.coef_)\n",
    "    print('Train MSE: ', SSE_train)\n",
    "    print('Test MSE: ', SSE_test)\n",
    "\n",
    "    return np.array([clf.intercept_] + list(clf.coef_))"
   ]
  },
  {
   "cell_type": "markdown",
   "metadata": {},
   "source": [
    "## SSE\n",
    "\n",
    "Here we calculate the sum of squared errors for both the training set and the test set, according to:\n",
    "$$SSE_{train} = (X_{train}\\beta - y)^{T}*(X_{train}\\beta - y)$$\n",
    "$$SSE_{test} = (X_{test}\\beta - y)^{T}*(X_{test}\\beta - y)$$"
   ]
  },
  {
   "cell_type": "code",
   "execution_count": 6,
   "metadata": {},
   "outputs": [],
   "source": [
    "def SSE(df_train, df_test, k):\n",
    "    \n",
    "    # Calculating the betas\n",
    "    betas = MIQP(df_train, k)\n",
    "    \n",
    "    X_train = df_train.drop(columns='y').to_numpy()\n",
    "    y_train = df_train['y'].to_numpy()\n",
    "    X_test = df_test.drop(columns='y').to_numpy()\n",
    "    y_test = df_test['y'].to_numpy()\n",
    "    n_train = X_train.shape[0]\n",
    "    X_train = np.hstack((np.ones((n_train, 1)), X_train))\n",
    "    n_test = X_test.shape[0]\n",
    "    X_test = np.hstack((np.ones((n_test, 1)), X_test))\n",
    "    \n",
    "    SSE_train = (X_train @ betas - y_train).T @ (X_train @ betas - y_train)\n",
    "    SSE_test = (X_test @ betas - y_test).T @ (X_test @ betas - y_test)\n",
    "    \n",
    "    return SSE_train, SSE_test"
   ]
  },
  {
   "cell_type": "markdown",
   "metadata": {},
   "source": [
    "## KFOLD\n",
    "\n",
    "Here we implement 10-fold cross validation for the MIQP problem to select the value of $k$ (number of variables to be selected). "
   ]
  },
  {
   "cell_type": "code",
   "execution_count": 7,
   "metadata": {},
   "outputs": [
    {
     "name": "stdout",
     "output_type": "stream",
     "text": [
      "Set parameter Username\n",
      "Academic license - for non-commercial use only - expires 2023-08-26\n"
     ]
    }
   ],
   "source": [
    "# Shuffling datasets\n",
    "train_cv = train.sample(frac=1)\n",
    "k_list = [5*(i+1) for i in range(10)]\n",
    "\n",
    "folds = 10\n",
    "errors = []\n",
    "# KFold Cross validation\n",
    "for k in k_list:\n",
    "    sum = 0\n",
    "    for df_holdout in np.split(train_cv, folds):\n",
    "        \n",
    "        df_train = train_cv[~train_cv.index.isin(df_holdout.index)]\n",
    "        SSE_train, SSE_holdout = SSE(df_train, df_holdout, k)\n",
    "        sum += SSE_holdout\n",
    "    avg_sum = sum\n",
    "    errors.append(avg_sum)\n",
    "\n",
    "df_errors = pd.DataFrame({\n",
    "    'k': k_list, \n",
    "    'Holdout_error': errors\n",
    "})"
   ]
  },
  {
   "cell_type": "code",
   "execution_count": 8,
   "metadata": {},
   "outputs": [
    {
     "data": {
      "text/html": [
       "<div>\n",
       "<style scoped>\n",
       "    .dataframe tbody tr th:only-of-type {\n",
       "        vertical-align: middle;\n",
       "    }\n",
       "\n",
       "    .dataframe tbody tr th {\n",
       "        vertical-align: top;\n",
       "    }\n",
       "\n",
       "    .dataframe thead th {\n",
       "        text-align: right;\n",
       "    }\n",
       "</style>\n",
       "<table border=\"1\" class=\"dataframe\">\n",
       "  <thead>\n",
       "    <tr style=\"text-align: right;\">\n",
       "      <th></th>\n",
       "      <th>k</th>\n",
       "      <th>Holdout_error</th>\n",
       "    </tr>\n",
       "  </thead>\n",
       "  <tbody>\n",
       "    <tr>\n",
       "      <th>0</th>\n",
       "      <td>5</td>\n",
       "      <td>905.047754</td>\n",
       "    </tr>\n",
       "    <tr>\n",
       "      <th>1</th>\n",
       "      <td>10</td>\n",
       "      <td>732.848361</td>\n",
       "    </tr>\n",
       "    <tr>\n",
       "      <th>2</th>\n",
       "      <td>15</td>\n",
       "      <td>754.143193</td>\n",
       "    </tr>\n",
       "    <tr>\n",
       "      <th>3</th>\n",
       "      <td>20</td>\n",
       "      <td>773.865825</td>\n",
       "    </tr>\n",
       "    <tr>\n",
       "      <th>4</th>\n",
       "      <td>25</td>\n",
       "      <td>780.541226</td>\n",
       "    </tr>\n",
       "    <tr>\n",
       "      <th>5</th>\n",
       "      <td>30</td>\n",
       "      <td>805.951129</td>\n",
       "    </tr>\n",
       "    <tr>\n",
       "      <th>6</th>\n",
       "      <td>35</td>\n",
       "      <td>811.646425</td>\n",
       "    </tr>\n",
       "    <tr>\n",
       "      <th>7</th>\n",
       "      <td>40</td>\n",
       "      <td>817.453951</td>\n",
       "    </tr>\n",
       "    <tr>\n",
       "      <th>8</th>\n",
       "      <td>45</td>\n",
       "      <td>818.574317</td>\n",
       "    </tr>\n",
       "    <tr>\n",
       "      <th>9</th>\n",
       "      <td>50</td>\n",
       "      <td>816.277840</td>\n",
       "    </tr>\n",
       "  </tbody>\n",
       "</table>\n",
       "</div>"
      ],
      "text/plain": [
       "    k  Holdout_error\n",
       "0   5     905.047754\n",
       "1  10     732.848361\n",
       "2  15     754.143193\n",
       "3  20     773.865825\n",
       "4  25     780.541226\n",
       "5  30     805.951129\n",
       "6  35     811.646425\n",
       "7  40     817.453951\n",
       "8  45     818.574317\n",
       "9  50     816.277840"
      ]
     },
     "execution_count": 8,
     "metadata": {},
     "output_type": "execute_result"
    }
   ],
   "source": [
    "df_errors"
   ]
  },
  {
   "cell_type": "code",
   "execution_count": 9,
   "metadata": {},
   "outputs": [
    {
     "data": {
      "image/png": "[encoded data removed]",
      "text/plain": [
       "<Figure size 640x480 with 1 Axes>"
      ]
     },
     "metadata": {},
     "output_type": "display_data"
    }
   ],
   "source": [
    "import matplotlib.pyplot as plt\n",
    "\n",
    "# Plotting the errors\n",
    "plt.plot(df_errors['k'], df_errors['Holdout_error'])\n",
    "plt.title('Selection of k')\n",
    "plt.xlabel('k')\n",
    "plt.ylabel('Holdout error')\n",
    "plt.grid()"
   ]
  },
  {
   "cell_type": "markdown",
   "metadata": {},
   "source": [
    "The best $k$ is 10. This would imply that 10 variables are useful in predicting the output, the other variables are noise and contribute to overfitting."
   ]
  },
  {
   "cell_type": "code",
   "execution_count": 10,
   "metadata": {},
   "outputs": [],
   "source": [
    "df_errors.to_csv(\"kfold_MIQP.csv\")"
   ]
  },
  {
   "cell_type": "markdown",
   "metadata": {},
   "source": [
    "## Fit MIQP on Entire Training Data with k=10"
   ]
  },
  {
   "cell_type": "code",
   "execution_count": 11,
   "metadata": {},
   "outputs": [
    {
     "name": "stdout",
     "output_type": "stream",
     "text": [
      "Beta coefs:\n"
     ]
    },
    {
     "data": {
      "text/plain": [
       "array([ 0.97252408,  0.        ,  0.        ,  0.        ,  0.        ,\n",
       "        0.        ,  0.        ,  0.        ,  0.        , -2.30820726,\n",
       "        0.        ,  0.        ,  0.        ,  0.        ,  0.        ,\n",
       "       -0.51832612, -0.20416201,  0.        ,  0.        ,  0.        ,\n",
       "        0.        ,  0.        ,  0.        , -1.55914318,  0.86697336,\n",
       "        0.        , -1.31191942,  0.        ,  0.        ,  0.        ,\n",
       "        0.        ,  0.        ,  0.        ,  0.        ,  0.4081653 ,\n",
       "        0.        ,  0.        ,  0.        ,  0.        ,  0.        ,\n",
       "        0.        ,  0.        ,  0.        ,  0.        ,  0.        ,\n",
       "        1.78147489,  0.        ,  0.88738292, -0.28229213,  0.        ,\n",
       "        0.        ])"
      ]
     },
     "execution_count": 11,
     "metadata": {},
     "output_type": "execute_result"
    }
   ],
   "source": [
    "bet_miqp = MIQP(train, 10)\n",
    "print('Beta coefs:')\n",
    "bet_miqp"
   ]
  },
  {
   "cell_type": "markdown",
   "metadata": {},
   "source": [
    "## Fitting lasso on the training and testing datasets\n",
    "\n",
    "Here we print out the $\\lambda$, $\\beta_0$, $k$, $\\beta_j$, $MSE_{train}$ and $MSE_{test}$ for LASSO."
   ]
  },
  {
   "cell_type": "code",
   "execution_count": 12,
   "metadata": {},
   "outputs": [
    {
     "name": "stdout",
     "output_type": "stream",
     "text": [
      "Best lambda from LASSO: 0.07638765995113514\n",
      "Intercept:  1.0015522007348236\n",
      "Number of X Variables: 17\n",
      "Beta coefs:  [-0.         -0.          0.          0.         -0.          0.\n",
      " -0.         -0.         -2.16054765  0.         -0.05964031 -0.\n",
      " -0.         -0.         -0.41912484 -0.19325408  0.          0.\n",
      " -0.          0.          0.         -0.19517759 -1.36388738  0.7425965\n",
      " -0.         -1.30481574 -0.          0.          0.05798283  0.\n",
      " -0.          0.         -0.09737839  0.28341629  0.          0.\n",
      "  0.          0.         -0.23157873  0.         -0.          0.\n",
      "  0.          0.03078191  1.56362172 -0.02160033  0.69992447 -0.09289745\n",
      "  0.          0.        ]\n",
      "Train MSE:  2.369056505325168\n",
      "Test MSE:  2.3496347591605797\n"
     ]
    }
   ],
   "source": [
    "# Lasso\n",
    "bet_lasso = LASSO(train, test)"
   ]
  },
  {
   "cell_type": "markdown",
   "metadata": {},
   "source": [
    "## Comparing the MIQP and the LASSO problem\n",
    "\n",
    "**Below we compare the predicted values of y for both the methods.**"
   ]
  },
  {
   "cell_type": "code",
   "execution_count": 13,
   "metadata": {},
   "outputs": [
    {
     "name": "stdout",
     "output_type": "stream",
     "text": [
      "The values of y predicted from MIQP problem are: \n",
      "\n",
      "[ 6.17985878  5.09524299  3.28559532  3.75848539 -0.33297526 -5.14273683\n",
      " -3.14454357 -1.23806288  1.38511093 -0.44173854 -1.69500225  2.73035027\n",
      "  0.74744903 -0.97192232 -0.68681528  8.04522381 -7.94698471  3.89063974\n",
      " -4.58142919 -3.21992082 -2.16211454  3.21686318 -3.19810533  0.19740731\n",
      " -2.35988844 -0.41999885 -1.9125216  -3.32418587 -3.14170972 -3.55379324\n",
      " -1.80842543 -0.37134301  1.8670808   5.04927886 -1.80005614  3.09427675\n",
      "  4.38154309  2.6988627   1.6132886   5.97584637 -1.1973583   5.2232542\n",
      " -5.84899891 -1.14461528  4.51802998  4.18774866  4.12046008  0.61483809\n",
      "  1.95723246 -1.54904383]\n",
      "The values of y predicted from LASSO are: \n",
      "\n",
      "[ 6.17985878  5.09524299  3.28559532  3.75848539 -0.33297526 -5.14273683\n",
      " -3.14454357 -1.23806288  1.38511093 -0.44173854 -1.69500225  2.73035027\n",
      "  0.74744903 -0.97192232 -0.68681528  8.04522381 -7.94698471  3.89063974\n",
      " -4.58142919 -3.21992082 -2.16211454  3.21686318 -3.19810533  0.19740731\n",
      " -2.35988844 -0.41999885 -1.9125216  -3.32418587 -3.14170972 -3.55379324\n",
      " -1.80842543 -0.37134301  1.8670808   5.04927886 -1.80005614  3.09427675\n",
      "  4.38154309  2.6988627   1.6132886   5.97584637 -1.1973583   5.2232542\n",
      " -5.84899891 -1.14461528  4.51802998  4.18774866  4.12046008  0.61483809\n",
      "  1.95723246 -1.54904383]\n"
     ]
    }
   ],
   "source": [
    "# predict y on X_test by using beta vals from k=10\n",
    "X_test = test.drop(columns='y').to_numpy()\n",
    "y_test = test['y']\n",
    "n_test = X_test.shape[0]\n",
    "X_test = np.hstack((np.ones((n_test, 1)), X_test))\n",
    "y_predict_miqp = X_test @ bet_miqp\n",
    "y_predict_lasso = X_test @ bet_lasso\n",
    "\n",
    "print(\"The values of y predicted from MIQP problem are: \\n\")\n",
    "print(y_predict_miqp)\n",
    "\n",
    "print(\"The values of y predicted from LASSO are: \\n\")\n",
    "print(y_predict_miqp)"
   ]
  },
  {
   "cell_type": "code",
   "execution_count": 14,
   "metadata": {},
   "outputs": [
    {
     "data": {
      "image/png": "[encoded data removed]",
      "text/plain": [
       "<Figure size 640x480 with 1 Axes>"
      ]
     },
     "metadata": {},
     "output_type": "display_data"
    }
   ],
   "source": [
    "import matplotlib.lines as mlines\n",
    "\n",
    "fig, ax = plt.subplots()\n",
    "\n",
    "ax.scatter(y_predict_miqp, y_predict_lasso)\n",
    "fig.suptitle('Comparing predicted values of y from both methods')\n",
    "ax.set_xlabel('Values of y predicted from MIQP')\n",
    "ax.set_ylabel('Values of y predicted from LASSO')\n",
    "\n",
    "# Reference line\n",
    "line = mlines.Line2D([0, 1], [0, 1], color='grey')\n",
    "transform = ax.transAxes\n",
    "line.set_transform(transform)\n",
    "ax.add_line(line)\n",
    "ax.grid()"
   ]
  },
  {
   "cell_type": "markdown",
   "metadata": {},
   "source": [
    "We see that the points are very close to the diagonal. There is not much difference in terms of predictive power."
   ]
  },
  {
   "cell_type": "markdown",
   "metadata": {},
   "source": [
    "**Below we compare the observed coefficients for both methods**"
   ]
  },
  {
   "cell_type": "code",
   "execution_count": 15,
   "metadata": {},
   "outputs": [
    {
     "data": {
      "text/plain": [
       "Text(0.5, -0.1, 'Beta index')"
      ]
     },
     "execution_count": 15,
     "metadata": {},
     "output_type": "execute_result"
    },
    {
     "data": {
      "image/png": "[encoded data removed]",
      "text/plain": [
       "<Figure size 1000x400 with 2 Axes>"
      ]
     },
     "metadata": {},
     "output_type": "display_data"
    }
   ],
   "source": [
    "# Comparing the coefficients obtained from both methods\n",
    "w_miqp = bet_miqp[bet_miqp!=0]\n",
    "b_miqp = np.argwhere(bet_miqp!=0).T[0]\n",
    "w_lasso = bet_lasso[bet_lasso!=0]\n",
    "b_lasso = np.argwhere(bet_lasso!=0).T[0]\n",
    "\n",
    "fig, (ax1, ax2) = plt.subplots(1, 2, sharey=True, figsize=(10, 4), constrained_layout=True)\n",
    "\n",
    "ax1.grid(zorder=0)\n",
    "ax1.bar(b_miqp, w_miqp, width=0.3, align='center', color='blue', zorder=3)\n",
    "ax1.set_title('Coefficients from MIQP')\n",
    "ax1.set_ylabel('Beta value')\n",
    "\n",
    "ax2.grid(zorder=0)\n",
    "ax2.bar(b_lasso, w_lasso, width=0.3, align='center', color='blue', zorder=3)\n",
    "ax2.set_title('Coefficients from LASSO')\n",
    "fig.text(0.5, -0.1,\"Beta index\", ha='center')"
   ]
  },
  {
   "cell_type": "markdown",
   "metadata": {},
   "source": [
    "We see that the coefficient values for both the MIQP and LASSO are almost the same and there are many coefficients that are almost zero in lasso. This implies that as far as subset selection, it is not as good as the MIQP, but very close."
   ]
  },
  {
   "cell_type": "markdown",
   "metadata": {},
   "source": [
    "## Recommendation:\n",
    "\n",
    "In terms of subset selection, we find that solving the MIQP is more accurate and exactly zeros out the required variables, whereas if only prediction is necessary, there is not much use to solving the harder problem (MIQP) and would be more advantageous to select the computationally cheaper LASSO."
   ]
  }
 ],
 "metadata": {
  "kernelspec": {
   "display_name": "Python 3",
   "language": "python",
   "name": "python3"
  },
  "language_info": {
   "codemirror_mode": {
    "name": "ipython",
    "version": 3
   },
   "file_extension": ".py",
   "mimetype": "text/x-python",
   "name": "python",
   "nbconvert_exporter": "python",
   "pygments_lexer": "ipython3",
   "version": "3.10.4 (tags/v3.10.4:9d38120, Mar 23 2022, 23:13:41) [MSC v.1929 64 bit (AMD64)]"
  },
  "vscode": {
   "interpreter": {
    "hash": "369f2c481f4da34e4445cda3fffd2e751bd1c4d706f27375911949ba6bb62e1c"
   }
  }
 },
 "nbformat": 4,
 "nbformat_minor": 2
}
